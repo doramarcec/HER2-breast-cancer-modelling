{
 "cells": [
  {
   "cell_type": "code",
   "execution_count": 2,
   "id": "56e099",
   "metadata": {
    "collapsed": false
   },
   "outputs": [
    {
     "ename": "ModuleNotFoundError",
     "evalue": "No module named 'boolean2'",
     "output_type": "error",
     "traceback": [
      "\u001b[1;31m---------------------------------------------------------------------------\u001b[0m",
      "\u001b[1;31mModuleNotFoundError\u001b[0m                       Traceback (most recent call last)",
      "Cell \u001b[1;32mIn[2], line 1\u001b[0m\n\u001b[1;32m----> 1\u001b[0m \u001b[38;5;28;01mimport\u001b[39;00m \u001b[38;5;21;01mboolean2\u001b[39;00m \u001b[38;5;28;01mas\u001b[39;00m \u001b[38;5;21;01mb2\u001b[39;00m\n\u001b[0;32m      2\u001b[0m \u001b[38;5;28;01mimport\u001b[39;00m \u001b[38;5;21;01mboolean2\u001b[39;00m\u001b[38;5;241m,\u001b[39m \u001b[38;5;21;01mpylab\u001b[39;00m\n\u001b[0;32m      3\u001b[0m \u001b[38;5;28;01mfrom\u001b[39;00m \u001b[38;5;21;01mboolean2\u001b[39;00m \u001b[38;5;28;01mimport\u001b[39;00m util\n",
      "\u001b[1;31mModuleNotFoundError\u001b[0m: No module named 'boolean2'"
     ]
    }
   ],
   "source": [
    "import boolean2 as b2\n",
    "import boolean2, pylab\n",
    "from boolean2 import util\n",
    "import matplotlib.pyplot as plt"
   ]
  },
  {
   "cell_type": "markdown",
   "id": "48ea90",
   "metadata": {
    "collapsed": false
   },
   "source": [
    "Model rules:\n",
    "\n",
    "- Herceptin inhibits HER2\n",
    "- HER2 activates ERK1/2\n",
    "- HER2 activates JNK1/2\n",
    "- HER2 activates P38\n",
    "- ERK1/2 activates DUSP16\n",
    "- DUSP16 inhibits JNK1/2\n",
    "- DUSP16 inhibits P38\n",
    "- ERK1/2 activates Survival\n",
    "- JNK1/2 and P38 together inhibit Survival"
   ]
  },
  {
   "cell_type": "markdown",
   "id": "766499",
   "metadata": {
    "collapsed": false
   },
   "source": [
    "# Develop a Boolean model for HER2+ breast cancer"
   ]
  },
  {
   "cell_type": "code",
   "execution_count": 1,
   "id": "3269cd",
   "metadata": {
    "collapsed": false
   },
   "outputs": [
    {
     "ename": "SyntaxError",
     "evalue": "Missing parentheses in call to 'print'. Did you mean print(...)? (308855376.py, line 28)",
     "output_type": "error",
     "traceback": [
      "\u001b[1;36m  Cell \u001b[1;32mIn[1], line 28\u001b[1;36m\u001b[0m\n\u001b[1;33m    print state.HER2, state.ERK12, state.JNK12, state.P38, state.DUSP16, state.Survival\u001b[0m\n\u001b[1;37m    ^\u001b[0m\n\u001b[1;31mSyntaxError\u001b[0m\u001b[1;31m:\u001b[0m Missing parentheses in call to 'print'. Did you mean print(...)?\n"
     ]
    }
   ],
   "source": [
    "# HER2+ breast cancer has overexpressed HER2, so without treatment, it will be ON by the default\n",
    "print(\"Prior to Herceptin treatment when HER2 is ON:\")\n",
    "\n",
    "model_definition = \"\"\"\n",
    "\n",
    "# Initial values \n",
    "HER2 = True\n",
    "ERK12 = Random\n",
    "JNK12 = Random\n",
    "P38 = Random\n",
    "DUSP16 = Random\n",
    "Survival = True\n",
    "\n",
    "# Update rules\n",
    "ERK12* = HER2\n",
    "JNK12* = HER2 or not DUSP16\n",
    "P38* = HER2 or not DUSP16\n",
    "DUSP16* = ERK12\n",
    "Survival* = ERK12 or not (JNK12 and P38)\n",
    "\"\"\"\n",
    "\n",
    "model = b2.Model(text = model_definition, mode = 'async')\n",
    "model.initialize()\n",
    "model.iterate(steps = 100)\n",
    "\n",
    "# Assess whether the model converges to a steady state or a limit cycle\n",
    "for state in model.states:\n",
    "    print state.HER2, state.ERK12, state.JNK12, state.P38, state.DUSP16, state.Survival\n",
    "    \n",
    "model.report_cycles()"
   ]
  },
  {
   "cell_type": "code",
   "execution_count": 19,
   "id": "8dec31",
   "metadata": {
    "collapsed": false
   },
   "outputs": [
    {
     "data": {
      "image/png": "[encoded data removed]",
      "text/plain": [
       "<Figure size 432x288 with 1 Axes>"
      ]
     },
     "metadata": {
      "needs_background": "light"
     },
     "output_type": "display_data"
    }
   ],
   "source": [
    "image = list()\n",
    "for node in model.data:\n",
    "    image.append(model.data[node])\n",
    "plt.yticks(range(0,6), model.data)\n",
    "plt.imshow(image, cmap=plt.cm.get_cmap('RdYlGn'), interpolation='none')\n",
    "\n",
    "plt.savefig('Fig1-no-inhibitors.png')"
   ]
  },
  {
   "cell_type": "markdown",
   "id": "f90490",
   "metadata": {
    "collapsed": false
   },
   "source": [
    "# Herceptin treatment simulation on the developed HER2+ breast cancer model"
   ]
  },
  {
   "cell_type": "code",
   "execution_count": 12,
   "id": "37635f",
   "metadata": {
    "collapsed": false
   },
   "outputs": [
    {
     "name": "stdout",
     "output_type": "stream",
     "text": [
      "After Herceptin treatment when HER2 is OFF:\n",
      "True False False True False True True\n",
      "True False False True True False True\n",
      "True False False True True False False\n",
      "True False False True True False False\n",
      "True False False True True False False\n",
      "True False False True True False False\n",
      "True False False True True False False\n",
      "True False False True True False False\n",
      "True False False True True False False\n",
      "True False False True True False False\n",
      "True False False True True False False\n",
      "True False False True True False False\n",
      "True False False True True False False\n",
      "True False False True True False False\n",
      "True False False True True False False\n",
      "True False False True True False False\n",
      "True False False True True False False\n",
      "True False False True True False False\n",
      "True False False True True False False\n",
      "True False False True True False False\n",
      "True False False True True False False\n",
      "True False False True True False False\n",
      "True False False True True False False\n",
      "True False False True True False False\n",
      "True False False True True False False\n",
      "True False False True True False False\n",
      "True False False True True False False\n",
      "True False False True True False False\n",
      "True False False True True False False\n",
      "True False False True True False False\n",
      "True False False True True False False\n",
      "True False False True True False False\n",
      "True False False True True False False\n",
      "True False False True True False False\n",
      "True False False True True False False\n",
      "True False False True True False False\n",
      "True False False True True False False\n",
      "True False False True True False False\n",
      "True False False True True False False\n",
      "True False False True True False False\n",
      "True False False True True False False\n",
      "True False False True True False False\n",
      "True False False True True False False\n",
      "True False False True True False False\n",
      "True False False True True False False\n",
      "True False False True True False False\n",
      "True False False True True False False\n",
      "True False False True True False False\n",
      "True False False True True False False\n",
      "True False False True True False False\n",
      "True False False True True False False\n",
      "True False False True True False False\n",
      "True False False True True False False\n",
      "True False False True True False False\n",
      "True False False True True False False\n",
      "True False False True True False False\n",
      "True False False True True False False\n",
      "True False False True True False False\n",
      "True False False True True False False\n",
      "True False False True True False False\n",
      "True False False True True False False\n",
      "True False False True True False False\n",
      "True False False True True False False\n",
      "True False False True True False False\n",
      "True False False True True False False\n",
      "True False False True True False False\n",
      "True False False True True False False\n",
      "True False False True True False False\n",
      "True False False True True False False\n",
      "True False False True True False False\n",
      "True False False True True False False\n",
      "True False False True True False False\n",
      "True False False True True False False\n",
      "True False False True True False False\n",
      "True False False True True False False\n",
      "True False False True True False False\n",
      "True False False True True False False\n",
      "True False False True True False False\n",
      "True False False True True False False\n",
      "True False False True True False False\n",
      "True False False True True False False\n",
      "True False False True True False False\n",
      "True False False True True False False\n",
      "True False False True True False False\n",
      "True False False True True False False\n",
      "True False False True True False False\n",
      "True False False True True False False\n",
      "True False False True True False False\n",
      "True False False True True False False\n",
      "True False False True True False False\n",
      "True False False True True False False\n",
      "True False False True True False False\n",
      "True False False True True False False\n",
      "True False False True True False False\n",
      "True False False True True False False\n",
      "True False False True True False False\n",
      "True False False True True False False\n",
      "True False False True True False False\n",
      "True False False True True False False\n",
      "True False False True True False False\n",
      "True False False True True False False\n",
      "Steady state starting at index 2 -> State: DUSP=False, ERK=False, HER2=False, Herceptin=True, JNK=True, P38=True, Survival=False\n"
     ]
    }
   ],
   "source": [
    "print(\"After Herceptin treatment when HER2 is OFF:\")\n",
    "\n",
    "model_definition = \"\"\"\n",
    "\n",
    "# Initial values \n",
    "Herceptin = True\n",
    "HER2 = False\n",
    "ERK12 = Random\n",
    "JNK12 = Random\n",
    "P38 = Random\n",
    "DUSP16 = Random\n",
    "Survival = Random\n",
    "\n",
    "# Update rules\n",
    "HER2* = not Herceptin\n",
    "ERK12* = HER2\n",
    "JNK12* = HER2 or not DUSP16\n",
    "P38* = HER2 or not DUSP16\n",
    "DUSP16* = ERK12\n",
    "Survival* = ERK12 or not (JNK12 and P38)\n",
    "\"\"\"\n",
    "\n",
    "model = b2.Model(text = model_definition, mode = 'async')\n",
    "model.initialize()\n",
    "model.iterate(steps = 100)\n",
    "\n",
    "# Assess whether the model converges to a steady state or a limit cycle\n",
    "for state in model.states:\n",
    "    print state.Herceptin, state.HER2, state.ERK12, state.JNK12, state.P38, state.DUSP16, state.Survival\n",
    "    \n",
    "model.report_cycles()"
   ]
  },
  {
   "cell_type": "code",
   "execution_count": 13,
   "id": "b54114",
   "metadata": {
    "collapsed": false
   },
   "outputs": [
    {
     "data": {
      "image/png": "[encoded data removed]",
      "text/plain": [
       "<Figure size 432x288 with 1 Axes>"
      ]
     },
     "metadata": {
      "needs_background": "light"
     },
     "output_type": "display_data"
    }
   ],
   "source": [
    "image = list()\n",
    "for node in model.data:\n",
    "    image.append(model.data[node])\n",
    "plt.yticks(range(0,7), model.data)\n",
    "plt.imshow(image, cmap=plt.cm.get_cmap('RdYlGn'), interpolation='none')\n",
    "\n",
    "plt.savefig('Fig2-HER2-inhibition.png')"
   ]
  },
  {
   "cell_type": "markdown",
   "id": "03ad05",
   "metadata": {
    "collapsed": false
   },
   "source": [
    "# Simulation of the Herceptin + DUSP inhibitor combination therapy on the developed HER2+ breast cancer model"
   ]
  },
  {
   "cell_type": "code",
   "execution_count": 14,
   "id": "3d122c",
   "metadata": {
    "collapsed": false
   },
   "outputs": [
    {
     "name": "stdout",
     "output_type": "stream",
     "text": [
      "After DUSP inhibition:\n",
      "True True False True True False False True\n",
      "True True False False True True False False\n",
      "True True False False True True False False\n",
      "True True False False True True False False\n",
      "True True False False True True False False\n",
      "True True False False True True False False\n",
      "True True False False True True False False\n",
      "True True False False True True False False\n",
      "True True False False True True False False\n",
      "True True False False True True False False\n",
      "True True False False True True False False\n",
      "True True False False True True False False\n",
      "True True False False True True False False\n",
      "True True False False True True False False\n",
      "True True False False True True False False\n",
      "True True False False True True False False\n",
      "True True False False True True False False\n",
      "True True False False True True False False\n",
      "True True False False True True False False\n",
      "True True False False True True False False\n",
      "True True False False True True False False\n",
      "True True False False True True False False\n",
      "True True False False True True False False\n",
      "True True False False True True False False\n",
      "True True False False True True False False\n",
      "True True False False True True False False\n",
      "True True False False True True False False\n",
      "True True False False True True False False\n",
      "True True False False True True False False\n",
      "True True False False True True False False\n",
      "True True False False True True False False\n",
      "True True False False True True False False\n",
      "True True False False True True False False\n",
      "True True False False True True False False\n",
      "True True False False True True False False\n",
      "True True False False True True False False\n",
      "True True False False True True False False\n",
      "True True False False True True False False\n",
      "True True False False True True False False\n",
      "True True False False True True False False\n",
      "True True False False True True False False\n",
      "True True False False True True False False\n",
      "True True False False True True False False\n",
      "True True False False True True False False\n",
      "True True False False True True False False\n",
      "True True False False True True False False\n",
      "True True False False True True False False\n",
      "True True False False True True False False\n",
      "True True False False True True False False\n",
      "True True False False True True False False\n",
      "True True False False True True False False\n",
      "True True False False True True False False\n",
      "True True False False True True False False\n",
      "True True False False True True False False\n",
      "True True False False True True False False\n",
      "True True False False True True False False\n",
      "True True False False True True False False\n",
      "True True False False True True False False\n",
      "True True False False True True False False\n",
      "True True False False True True False False\n",
      "True True False False True True False False\n",
      "True True False False True True False False\n",
      "True True False False True True False False\n",
      "True True False False True True False False\n",
      "True True False False True True False False\n",
      "True True False False True True False False\n",
      "True True False False True True False False\n",
      "True True False False True True False False\n",
      "True True False False True True False False\n",
      "True True False False True True False False\n",
      "True True False False True True False False\n",
      "True True False False True True False False\n",
      "True True False False True True False False\n",
      "True True False False True True False False\n",
      "True True False False True True False False\n",
      "True True False False True True False False\n",
      "True True False False True True False False\n",
      "True True False False True True False False\n",
      "True True False False True True False False\n",
      "True True False False True True False False\n",
      "True True False False True True False False\n",
      "True True False False True True False False\n",
      "True True False False True True False False\n",
      "True True False False True True False False\n",
      "True True False False True True False False\n",
      "True True False False True True False False\n",
      "True True False False True True False False\n",
      "True True False False True True False False\n",
      "True True False False True True False False\n",
      "True True False False True True False False\n",
      "True True False False True True False False\n",
      "True True False False True True False False\n",
      "True True False False True True False False\n",
      "True True False False True True False False\n",
      "True True False False True True False False\n",
      "True True False False True True False False\n",
      "True True False False True True False False\n",
      "True True False False True True False False\n",
      "True True False False True True False False\n",
      "True True False False True True False False\n",
      "True True False False True True False False\n",
      "Steady state starting at index 1 -> State: DUSP=False, DUSP_inhibitor=True, ERK=False, HER2=False, Herceptin=True, JNK=True, P38=True, Survival=False\n"
     ]
    }
   ],
   "source": [
    "print(\"After DUSP inhibition:\")\n",
    "\n",
    "model_definition = \"\"\"\n",
    "\n",
    "# Initial values \n",
    "Herceptin = True\n",
    "DUSP_inhibitor = True\n",
    "HER2 = False\n",
    "ERK12 = Random\n",
    "JNK12 = Random\n",
    "P38 = Random\n",
    "DUSP16 = False\n",
    "Survival = Random\n",
    "\n",
    "# Update rules\n",
    "HER2* = not Herceptin\n",
    "ERK12* = HER2\n",
    "DUSP16* = not DUSP_inhibitor\n",
    "JNK12* = HER2 or not DUSP16\n",
    "P38* = HER2 or not DUSP16\n",
    "Survival* = ERK12 or not (JNK12 and P38)\n",
    "\"\"\"\n",
    "\n",
    "model = b2.Model(text = model_definition, mode = 'async')\n",
    "model.initialize()\n",
    "model.iterate(steps = 100)\n",
    "\n",
    "# Assess whether the model converges to a steady state or a limit cycle\n",
    "for state in model.states:\n",
    "    print state.Herceptin, state.DUSP_inhibitor, state.HER2, state.ERK12, state.JNK12, state.P38, state.DUSP16, state.Survival\n",
    "    \n",
    "model.report_cycles()"
   ]
  },
  {
   "cell_type": "code",
   "execution_count": 15,
   "id": "c75bc9",
   "metadata": {
    "collapsed": false
   },
   "outputs": [
    {
     "data": {
      "text/plain": [
       "<matplotlib.image.AxesImage at 0x2bc9be88>"
      ]
     },
     "execution_count": 15,
     "metadata": {},
     "output_type": "execute_result"
    },
    {
     "data": {
      "image/png": "[encoded data removed]",
      "text/plain": [
       "<Figure size 432x288 with 1 Axes>"
      ]
     },
     "metadata": {
      "needs_background": "light"
     },
     "output_type": "display_data"
    }
   ],
   "source": [
    "image = list()\n",
    "for node in model.data:\n",
    "    image.append(model.data[node])\n",
    "plt.yticks(range(0,8), model.data)\n",
    "plt.imshow(image, cmap=plt.cm.get_cmap('RdYlGn'), interpolation='none')\n",
    "\n",
    "plt.savefig('Fig3-double-inhibition.png')"
   ]
  }
 ],
 "metadata": {
  "kernelspec": {
   "display_name": "Python 3",
   "language": "python",
   "name": "python3"
  },
  "language_info": {
   "codemirror_mode": {
    "name": "ipython",
    "version": 3
   },
   "file_extension": ".py",
   "mimetype": "text/x-python",
   "name": "python",
   "nbconvert_exporter": "python",
   "pygments_lexer": "ipython3",
   "version": "3.12.1"
  }
 },
 "nbformat": 4,
 "nbformat_minor": 4
}
